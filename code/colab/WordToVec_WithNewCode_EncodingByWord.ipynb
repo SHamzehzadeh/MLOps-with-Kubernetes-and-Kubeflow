{
  "cells": [
    {
      "cell_type": "code",
      "execution_count": null,
      "metadata": {
        "id": "FywyEftmQKdM"
      },
      "outputs": [],
      "source": [
        "import pandas as pd\n",
        "import tensorflow as tf\n",
        "import matplotlib.pyplot as plt\n",
        "import math\n",
        "import keras\n",
        "from google.colab import files as fl\n",
        "import numpy as np\n"
      ]
    },
    {
      "cell_type": "code",
      "execution_count": null,
      "metadata": {
        "id": "QGi2T-btTqZl"
      },
      "outputs": [],
      "source": [
        "log1=fl.upload()"
      ]
    },
    {
      "cell_type": "code",
      "execution_count": null,
      "metadata": {
        "id": "85drlLljVIKy"
      },
      "outputs": [],
      "source": [
        "log1s=str(log1)"
      ]
    },
    {
      "cell_type": "code",
      "execution_count": null,
      "metadata": {
        "id": "b-DRsMTCCMBK"
      },
      "outputs": [],
      "source": [
        "#removing \\r \\n \\t log1\n",
        "log1sClr=[]\n",
        "log1sClr= log1s.replace(\"\\\\r\" , '')\n",
        "log1sClr= log1sClr.replace(\"\\\\n\" , ' ')\n",
        "log1sClr= log1sClr.replace(\"\\\\t\" , ' ')\n",
        "log1sClr= log1sClr.replace('  ' , ' ')\n",
        "log1sClr= log1sClr.replace('   ' , ' ')\n",
        "log1sClr= log1sClr.replace('    ' , ' ')\n",
        "log1sClr= log1sClr.replace('     ' , ' ')\n",
        "log1sClr= log1sClr.replace('      ' , ' ')\n",
        "log1sClr= log1sClr.replace('       ' , ' ')\n",
        "log1sClr= log1sClr.replace('        ' , ' ')\n",
        "#log1sClr= log1sClr.replace('{' , '')\n",
        "#log1sClr= log1sClr.replace('}' , '')\n",
        "#log1sClr= log1sClr.replace('[' , '')\n",
        "#log1sClr= log1sClr.replace(']' , '')\n",
        "#log1sClr= log1sClr.replace(\"'\" , '')\n",
        "#log1sClr= log1sClr.replace(',' , '')\n",
        "#log1sClr= log1sClr.replace('\"' , '')"
      ]
    },
    {
      "cell_type": "code",
      "source": [
        "print(log1sClr)"
      ],
      "metadata": {
        "id": "GR1l6TjLK-dn"
      },
      "execution_count": null,
      "outputs": []
    },
    {
      "cell_type": "code",
      "source": [
        "WordSplit= log1sClr.split(\" \")\n"
      ],
      "metadata": {
        "id": "x0vuZZCzrp7Z"
      },
      "execution_count": null,
      "outputs": []
    },
    {
      "cell_type": "code",
      "source": [
        "print(WordSplit)"
      ],
      "metadata": {
        "id": "f84W4DhvsDSR"
      },
      "execution_count": null,
      "outputs": []
    },
    {
      "cell_type": "code",
      "source": [
        "# The unique characters in the file using 'for' loop\n",
        "\n",
        "dic=[]\n",
        "for n in WordSplit:\n",
        "  if n not in dic:\n",
        "    dic.append(n)\n",
        "print(sorted(dic))\n",
        "len(dic)\n"
      ],
      "metadata": {
        "id": "Tjx346DjycS9"
      },
      "execution_count": null,
      "outputs": []
    },
    {
      "cell_type": "code",
      "source": [
        "# The unique characters in the file\n",
        "\n",
        "global vocab\n",
        "vocab= sorted(set(WordSplit))\n",
        "\n",
        "print(vocab)\n",
        "len(vocab)\n"
      ],
      "metadata": {
        "id": "64a8V9xc6BFR"
      },
      "execution_count": null,
      "outputs": []
    },
    {
      "cell_type": "code",
      "source": [
        "Change=log1sClr.replace(\" I:\", \" SignS I:\")\n",
        "Change=Change.replace(\" C:\" , \" SignS C:\")"
      ],
      "metadata": {
        "id": "BjHsWNHnguwA"
      },
      "execution_count": null,
      "outputs": []
    },
    {
      "cell_type": "code",
      "source": [
        "print(Change)"
      ],
      "metadata": {
        "id": "jNCpe3su3sEW"
      },
      "execution_count": null,
      "outputs": []
    },
    {
      "cell_type": "code",
      "source": [
        "log1sForCToI=Change.split(\"SignS\")"
      ],
      "metadata": {
        "id": "oLRh2L49HO6F"
      },
      "execution_count": null,
      "outputs": []
    },
    {
      "cell_type": "code",
      "source": [
        "for n in log1sForCToI:\n",
        " print(n)"
      ],
      "metadata": {
        "id": "PPk1uKZajsv6"
      },
      "execution_count": null,
      "outputs": []
    },
    {
      "cell_type": "code",
      "source": [
        "Blocks=[]\n",
        "for n in log1sForCToI:\n",
        "  if \".txt\" not in n:\n",
        "    Blocks.append(n)"
      ],
      "metadata": {
        "id": "0W52dMEAkFUq"
      },
      "execution_count": null,
      "outputs": []
    },
    {
      "cell_type": "code",
      "source": [
        "for n in Blocks:\n",
        "  print(n)"
      ],
      "metadata": {
        "id": "ZDz0NpW_kXkc"
      },
      "execution_count": null,
      "outputs": []
    },
    {
      "cell_type": "code",
      "source": [
        "len(Blocks)"
      ],
      "metadata": {
        "id": "97tJhbGLXw7t"
      },
      "execution_count": null,
      "outputs": []
    },
    {
      "cell_type": "code",
      "source": [
        "#combining each character with its index puting together in one array\n",
        "charToInd={char:ind for ind , char in enumerate(vocab)}"
      ],
      "metadata": {
        "id": "jgZINWBw9xYD"
      },
      "execution_count": null,
      "outputs": []
    },
    {
      "cell_type": "code",
      "source": [
        "print(charToInd)"
      ],
      "metadata": {
        "id": "LFkTJpR2cRZz"
      },
      "execution_count": null,
      "outputs": []
    },
    {
      "cell_type": "code",
      "source": [
        "#making array of vocab\n",
        "indToChar=np.array(vocab)"
      ],
      "metadata": {
        "id": "Y7Q3SooDcmb5"
      },
      "execution_count": null,
      "outputs": []
    },
    {
      "cell_type": "code",
      "source": [
        "#print(indToChar)\n",
        "#len(indToChar)"
      ],
      "metadata": {
        "id": "TMTNxz6FdDJc"
      },
      "execution_count": null,
      "outputs": []
    },
    {
      "cell_type": "code",
      "source": [
        "indToChar.shape\n",
        "#print(\"\\n\")\n",
        "#np.shape(ind_to_char)"
      ],
      "metadata": {
        "id": "8RII9wcHflHZ"
      },
      "execution_count": null,
      "outputs": []
    },
    {
      "cell_type": "code",
      "source": [
        "#encoding the log to numbers so that RNN can understand\n",
        "encodedLog=np.array([charToInd[c] for c in WordSplit])\n",
        "#encodedLog.shape"
      ],
      "metadata": {
        "id": "d3FTAz8NhLd0"
      },
      "execution_count": null,
      "outputs": []
    },
    {
      "cell_type": "code",
      "source": [
        "#for v in encodedLog:\n",
        "#  print(v)"
      ],
      "metadata": {
        "id": "PXZlHWLAjXz-"
      },
      "execution_count": null,
      "outputs": []
    },
    {
      "cell_type": "code",
      "source": [
        "len(encodedLog)"
      ],
      "metadata": {
        "id": "jt22guKfBwtE"
      },
      "execution_count": null,
      "outputs": []
    },
    {
      "cell_type": "code",
      "source": [
        "blocksArr=np.array(Blocks)"
      ],
      "metadata": {
        "id": "pDvoAk5CkG65"
      },
      "execution_count": null,
      "outputs": []
    },
    {
      "cell_type": "code",
      "source": [
        "#print(blocksArr)"
      ],
      "metadata": {
        "id": "sOO87vImnZoy"
      },
      "execution_count": null,
      "outputs": []
    },
    {
      "cell_type": "code",
      "source": [
        "print(WordSplit)"
      ],
      "metadata": {
        "id": "gB7weXS3lXJ8"
      },
      "execution_count": null,
      "outputs": []
    },
    {
      "cell_type": "code",
      "source": [
        "print(Blocks)"
      ],
      "metadata": {
        "id": "yAH_sYVVvRDb"
      },
      "execution_count": null,
      "outputs": []
    },
    {
      "cell_type": "code",
      "source": [
        "print(Change)"
      ],
      "metadata": {
        "id": "sFkM8OrUwtg7"
      },
      "execution_count": null,
      "outputs": []
    },
    {
      "cell_type": "code",
      "source": [
        "Splitedword= Change.split(\" \")"
      ],
      "metadata": {
        "id": "YDlF9bVLx41R"
      },
      "execution_count": null,
      "outputs": []
    },
    {
      "cell_type": "code",
      "source": [
        "print(Splitedword)"
      ],
      "metadata": {
        "id": "fWThZ_-KyTWE"
      },
      "execution_count": null,
      "outputs": []
    },
    {
      "cell_type": "code",
      "source": [
        "FullCodedList=[]\n",
        "#EncodedBlocks=[None]*3562\n",
        "EncodedBlocks=[]\n",
        "for n in Splitedword:\n",
        "  if n!=\"SignS\": # and n!='(TC-RNTSignS' and n!='RRSignS':\n",
        "    FullCodedList.append(charToInd[n])\n",
        "  elif n==\"SignS\":\n",
        "    FullCodedList.append(n)"
      ],
      "metadata": {
        "id": "b7mB-WkIyk-F"
      },
      "execution_count": null,
      "outputs": []
    },
    {
      "cell_type": "code",
      "source": [
        "print(FullCodedList)"
      ],
      "metadata": {
        "id": "8axTfp3r0B7o"
      },
      "execution_count": null,
      "outputs": []
    },
    {
      "cell_type": "code",
      "source": [
        "encodedLogWord=[]\n",
        "encodedLogWordList=[]\n",
        "EncodedBlocks=[]\n",
        "y=[]\n",
        "for n in FullCodedList:\n",
        "  if n!=\"SignS\":\n",
        "    encodedLogWord.append(n)\n",
        "  elif n==\"SignS\":\n",
        "    encodedLogWordList=list(encodedLogWord)\n",
        "    EncodedBlocks.append(encodedLogWordList)\n",
        "    encodedLogWord.clear()"
      ],
      "metadata": {
        "id": "WAfpGULBLi08"
      },
      "execution_count": null,
      "outputs": []
    },
    {
      "cell_type": "code",
      "source": [
        "for n in EncodedBlocks:\n",
        "  print(n)"
      ],
      "metadata": {
        "id": "776zNBOYMXWs"
      },
      "execution_count": null,
      "outputs": []
    },
    {
      "cell_type": "code",
      "source": [
        "len(EncodedBlocks)"
      ],
      "metadata": {
        "id": "N_rvwjX7NC54"
      },
      "execution_count": null,
      "outputs": []
    },
    {
      "cell_type": "code",
      "source": [
        "BlocksLength=[]\n",
        "for n in EncodedBlocks:\n",
        "  BlocksLength.append(len(n))"
      ],
      "metadata": {
        "id": "0K-wlPAQQnMc"
      },
      "execution_count": null,
      "outputs": []
    },
    {
      "cell_type": "code",
      "source": [
        "print(BlocksLength)"
      ],
      "metadata": {
        "id": "g9z9FMn3QzUn"
      },
      "execution_count": null,
      "outputs": []
    },
    {
      "cell_type": "code",
      "source": [
        "BlocksLengthCount=[]\n",
        "temp=[]\n",
        "BlocksLengthCount.clear()\n",
        "temp.clear()\n",
        "for n in BlocksLength:\n",
        "  temp.clear()\n",
        "  temp.append(n)\n",
        "  temp.append(BlocksLength.count(n))\n",
        "  if list(temp) not in BlocksLengthCount and BlocksLength.count(n)!=1:\n",
        "    BlocksLengthCount.append(list(temp))\n"
      ],
      "metadata": {
        "id": "7SxfSWn9sW_L"
      },
      "execution_count": null,
      "outputs": []
    },
    {
      "cell_type": "code",
      "source": [
        "print(sorted(BlocksLengthCount), '\\n' , max(sorted(BlocksLengthCount)))"
      ],
      "metadata": {
        "id": "9UK8C8UquSBn"
      },
      "execution_count": null,
      "outputs": []
    },
    {
      "cell_type": "code",
      "source": [
        "PaddingBorder=50\n",
        "pad=0\n",
        "temp=[]\n",
        "PaddedEncodingBlocks=[]\n",
        "temp.clear()\n",
        "PaddedEncodingBlocks.clear()\n",
        "for n in EncodedBlocks:\n",
        "  temp.clear()\n",
        "  if len(n)<=PaddingBorder:\n",
        "    for m in n:\n",
        "      temp.append(m)\n",
        "    i=len(n)\n",
        "    while i<PaddingBorder:\n",
        "      temp.append(pad)\n",
        "      i+=1\n",
        "  if temp!=[]:\n",
        "    PaddedEncodingBlocks.append(list(temp))\n",
        "print(len(PaddedEncodingBlocks))\n",
        "\n",
        ""
      ],
      "metadata": {
        "id": "YgeUZtH1x7FJ"
      },
      "execution_count": null,
      "outputs": []
    },
    {
      "cell_type": "code",
      "source": [
        "for n in PaddedEncodingBlocks:\n",
        "  print(n)"
      ],
      "metadata": {
        "id": "EUjotOQi1-gm"
      },
      "execution_count": null,
      "outputs": []
    },
    {
      "cell_type": "code",
      "source": [
        "#for n in PaddedEncodingBlocks:\n",
        "#print(len(n))"
      ],
      "metadata": {
        "id": "tfHHt0df4PXy"
      },
      "execution_count": null,
      "outputs": []
    }
  ],
  "metadata": {
    "colab": {
      "provenance": []
    },
    "kernelspec": {
      "display_name": "Python 3",
      "name": "python3"
    },
    "language_info": {
      "name": "python"
    }
  },
  "nbformat": 4,
  "nbformat_minor": 0
}
